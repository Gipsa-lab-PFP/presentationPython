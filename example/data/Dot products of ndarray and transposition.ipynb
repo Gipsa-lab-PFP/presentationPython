{
 "cells": [
  {
   "cell_type": "code",
   "execution_count": 1,
   "metadata": {},
   "outputs": [
    {
     "name": "stdout",
     "output_type": "stream",
     "text": [
      "Populating the interactive namespace from numpy and matplotlib\n"
     ]
    }
   ],
   "source": [
    "%pylab inline"
   ]
  },
  {
   "cell_type": "markdown",
   "metadata": {},
   "source": [
    "# One dimensional ndarray\n",
    "\n",
    "if $\\vec{A}$ and $\\vec{B}$ are in $R^n$. The dot product (produit scalaire) is defined by : \n",
    "\n",
    "$$ c = \\vec{A} \\cdot \\vec{B} = \\sum_i^n A_i \\, B_i $$\n",
    "\n",
    "c is a scalar"
   ]
  },
  {
   "cell_type": "code",
   "execution_count": 97,
   "metadata": {},
   "outputs": [
    {
     "name": "stdout",
     "output_type": "stream",
     "text": [
      "20\n",
      "()\n",
      "<class 'numpy.int64'>\n"
     ]
    }
   ],
   "source": [
    "A = array([0, 1, 2, 3])\n",
    "B = array([1, 2, 3, 4])\n",
    "C = A.dot(B)\n",
    "print(C)\n",
    "print(C.shape)\n",
    "print(type(C))"
   ]
  },
  {
   "cell_type": "markdown",
   "metadata": {},
   "source": [
    "# N dimensional ndarray versus 1 dimensional ndarray\n",
    "\n",
    "A is three dimensional (N=3)"
   ]
  },
  {
   "cell_type": "code",
   "execution_count": 98,
   "metadata": {},
   "outputs": [
    {
     "name": "stdout",
     "output_type": "stream",
     "text": [
      "[[[ 0  1  2  3]\n",
      "  [ 4  5  6  7]\n",
      "  [ 8  9 10 11]]\n",
      "\n",
      " [[12 13 14 15]\n",
      "  [16 17 18 19]\n",
      "  [20 21 22 23]]]\n"
     ]
    }
   ],
   "source": [
    "A = arange(24).reshape(2, 3, 4)\n",
    "print(A)"
   ]
  },
  {
   "cell_type": "markdown",
   "metadata": {},
   "source": [
    "B has one dimension with, for example, 4 elements. "
   ]
  },
  {
   "cell_type": "code",
   "execution_count": 101,
   "metadata": {},
   "outputs": [
    {
     "name": "stdout",
     "output_type": "stream",
     "text": [
      "[[ 20  60 100]\n",
      " [140 180 220]]\n",
      "(2, 3)\n"
     ]
    }
   ],
   "source": [
    "B = array([1, 2, 3, 4])\n",
    "C = A.dot(B)\n",
    "print(C)\n",
    "print(C.shape)"
   ]
  },
  {
   "cell_type": "markdown",
   "metadata": {},
   "source": [
    "A shape is (2, 3, 4)  \n",
    "B shape is (4, )  \n",
    "C shape is (2, 3) since (4,)dot(4,) is a scalar  \n",
    "\n",
    "Every dot products are done on the last dimension of A through here, the first dimension of B. "
   ]
  },
  {
   "cell_type": "markdown",
   "metadata": {},
   "source": [
    "# N dimensional ndarray versus P dimensional ndarray \n",
    "\n",
    "To be compatible for dot products, the number of elements in the antepenultimate (before last) dimension of B must be the same as the number of elements in the last dimension of A. \n",
    "\n",
    "if A is the same as before, the antepenultimate dimension of B must contains 4 elements.  "
   ]
  },
  {
   "cell_type": "code",
   "execution_count": 87,
   "metadata": {},
   "outputs": [
    {
     "name": "stdout",
     "output_type": "stream",
     "text": [
      "[[0 1]\n",
      " [2 3]\n",
      " [4 5]\n",
      " [6 7]]\n"
     ]
    }
   ],
   "source": [
    "B = arange(8).reshape(4, 2)\n",
    "print(B)"
   ]
  },
  {
   "cell_type": "markdown",
   "metadata": {},
   "source": [
    "In this example, the dot product will be done with the two vectors $[0, 2, 4, 6]$ and $[1, 3, 5, 7]$. \n",
    "\n",
    "A is shape (2, 3, 4) ans B is shape (4, 2). \n",
    "\n",
    "The resulting shape will be (2, 3, 2), the since the (4, ) dot (4, ) operation results in a scalar.  "
   ]
  },
  {
   "cell_type": "code",
   "execution_count": 88,
   "metadata": {},
   "outputs": [
    {
     "name": "stdout",
     "output_type": "stream",
     "text": [
      "[[[ 28  34]\n",
      "  [ 76  98]\n",
      "  [124 162]]\n",
      "\n",
      " [[172 226]\n",
      "  [220 290]\n",
      "  [268 354]]]\n",
      "(2, 3, 2)\n"
     ]
    }
   ],
   "source": [
    "D = A.dot(B)\n",
    "print(D)\n",
    "print(D.shape)"
   ]
  },
  {
   "cell_type": "markdown",
   "metadata": {},
   "source": [
    "if A is (2, 3, 4) and B is (3, 4, 5), the result will be (2, 3, 3, 5)"
   ]
  },
  {
   "cell_type": "code",
   "execution_count": 89,
   "metadata": {},
   "outputs": [
    {
     "name": "stdout",
     "output_type": "stream",
     "text": [
      "[[[ 0  1  2  3  4]\n",
      "  [ 5  6  7  8  9]\n",
      "  [10 11 12 13 14]\n",
      "  [15 16 17 18 19]]\n",
      "\n",
      " [[20 21 22 23 24]\n",
      "  [25 26 27 28 29]\n",
      "  [30 31 32 33 34]\n",
      "  [35 36 37 38 39]]\n",
      "\n",
      " [[40 41 42 43 44]\n",
      "  [45 46 47 48 49]\n",
      "  [50 51 52 53 54]\n",
      "  [55 56 57 58 59]]]\n"
     ]
    }
   ],
   "source": [
    "B = arange(60).reshape(3, 4, 5)\n",
    "print(B)"
   ]
  },
  {
   "cell_type": "code",
   "execution_count": 90,
   "metadata": {},
   "outputs": [
    {
     "name": "stdout",
     "output_type": "stream",
     "text": [
      "[[[[  70   76   82   88   94]\n",
      "   [ 190  196  202  208  214]\n",
      "   [ 310  316  322  328  334]]\n",
      "\n",
      "  [[ 190  212  234  256  278]\n",
      "   [ 630  652  674  696  718]\n",
      "   [1070 1092 1114 1136 1158]]\n",
      "\n",
      "  [[ 310  348  386  424  462]\n",
      "   [1070 1108 1146 1184 1222]\n",
      "   [1830 1868 1906 1944 1982]]]\n",
      "\n",
      "\n",
      " [[[ 430  484  538  592  646]\n",
      "   [1510 1564 1618 1672 1726]\n",
      "   [2590 2644 2698 2752 2806]]\n",
      "\n",
      "  [[ 550  620  690  760  830]\n",
      "   [1950 2020 2090 2160 2230]\n",
      "   [3350 3420 3490 3560 3630]]\n",
      "\n",
      "  [[ 670  756  842  928 1014]\n",
      "   [2390 2476 2562 2648 2734]\n",
      "   [4110 4196 4282 4368 4454]]]]\n",
      "(2, 3, 3, 5)\n"
     ]
    }
   ],
   "source": [
    "C = A.dot(B)\n",
    "print(C)\n",
    "print(C.shape)"
   ]
  },
  {
   "cell_type": "markdown",
   "metadata": {},
   "source": [
    "# Transposition"
   ]
  },
  {
   "cell_type": "markdown",
   "metadata": {},
   "source": [
    "A has shape (2, 3, 4)"
   ]
  },
  {
   "cell_type": "code",
   "execution_count": 91,
   "metadata": {},
   "outputs": [
    {
     "name": "stdout",
     "output_type": "stream",
     "text": [
      "[[[ 0  1  2  3]\n",
      "  [ 4  5  6  7]\n",
      "  [ 8  9 10 11]]\n",
      "\n",
      " [[12 13 14 15]\n",
      "  [16 17 18 19]\n",
      "  [20 21 22 23]]]\n"
     ]
    }
   ],
   "source": [
    "print(A)"
   ]
  },
  {
   "cell_type": "markdown",
   "metadata": {},
   "source": [
    "A.T has shape (4, 3, 2)"
   ]
  },
  {
   "cell_type": "code",
   "execution_count": 92,
   "metadata": {},
   "outputs": [
    {
     "name": "stdout",
     "output_type": "stream",
     "text": [
      "[[[ 0 12]\n",
      "  [ 4 16]\n",
      "  [ 8 20]]\n",
      "\n",
      " [[ 1 13]\n",
      "  [ 5 17]\n",
      "  [ 9 21]]\n",
      "\n",
      " [[ 2 14]\n",
      "  [ 6 18]\n",
      "  [10 22]]\n",
      "\n",
      " [[ 3 15]\n",
      "  [ 7 19]\n",
      "  [11 23]]]\n"
     ]
    }
   ],
   "source": [
    "print(A.T)"
   ]
  },
  {
   "cell_type": "code",
   "execution_count": 93,
   "metadata": {},
   "outputs": [],
   "source": [
    "A = arange(120).reshape(2, 3, 4, 5)"
   ]
  },
  {
   "cell_type": "code",
   "execution_count": 94,
   "metadata": {},
   "outputs": [
    {
     "name": "stdout",
     "output_type": "stream",
     "text": [
      "(2, 3, 4, 5)\n",
      "(5, 4, 3, 2)\n"
     ]
    }
   ],
   "source": [
    "print(A.shape)\n",
    "print(A.T.shape)"
   ]
  },
  {
   "cell_type": "code",
   "execution_count": 95,
   "metadata": {
    "scrolled": false
   },
   "outputs": [
    {
     "name": "stdout",
     "output_type": "stream",
     "text": [
      "[[[[  0   1   2   3   4]\n",
      "   [  5   6   7   8   9]\n",
      "   [ 10  11  12  13  14]\n",
      "   [ 15  16  17  18  19]]\n",
      "\n",
      "  [[ 20  21  22  23  24]\n",
      "   [ 25  26  27  28  29]\n",
      "   [ 30  31  32  33  34]\n",
      "   [ 35  36  37  38  39]]\n",
      "\n",
      "  [[ 40  41  42  43  44]\n",
      "   [ 45  46  47  48  49]\n",
      "   [ 50  51  52  53  54]\n",
      "   [ 55  56  57  58  59]]]\n",
      "\n",
      "\n",
      " [[[ 60  61  62  63  64]\n",
      "   [ 65  66  67  68  69]\n",
      "   [ 70  71  72  73  74]\n",
      "   [ 75  76  77  78  79]]\n",
      "\n",
      "  [[ 80  81  82  83  84]\n",
      "   [ 85  86  87  88  89]\n",
      "   [ 90  91  92  93  94]\n",
      "   [ 95  96  97  98  99]]\n",
      "\n",
      "  [[100 101 102 103 104]\n",
      "   [105 106 107 108 109]\n",
      "   [110 111 112 113 114]\n",
      "   [115 116 117 118 119]]]]\n",
      "[[[[  0  60]\n",
      "   [ 20  80]\n",
      "   [ 40 100]]\n",
      "\n",
      "  [[  5  65]\n",
      "   [ 25  85]\n",
      "   [ 45 105]]\n",
      "\n",
      "  [[ 10  70]\n",
      "   [ 30  90]\n",
      "   [ 50 110]]\n",
      "\n",
      "  [[ 15  75]\n",
      "   [ 35  95]\n",
      "   [ 55 115]]]\n",
      "\n",
      "\n",
      " [[[  1  61]\n",
      "   [ 21  81]\n",
      "   [ 41 101]]\n",
      "\n",
      "  [[  6  66]\n",
      "   [ 26  86]\n",
      "   [ 46 106]]\n",
      "\n",
      "  [[ 11  71]\n",
      "   [ 31  91]\n",
      "   [ 51 111]]\n",
      "\n",
      "  [[ 16  76]\n",
      "   [ 36  96]\n",
      "   [ 56 116]]]\n",
      "\n",
      "\n",
      " [[[  2  62]\n",
      "   [ 22  82]\n",
      "   [ 42 102]]\n",
      "\n",
      "  [[  7  67]\n",
      "   [ 27  87]\n",
      "   [ 47 107]]\n",
      "\n",
      "  [[ 12  72]\n",
      "   [ 32  92]\n",
      "   [ 52 112]]\n",
      "\n",
      "  [[ 17  77]\n",
      "   [ 37  97]\n",
      "   [ 57 117]]]\n",
      "\n",
      "\n",
      " [[[  3  63]\n",
      "   [ 23  83]\n",
      "   [ 43 103]]\n",
      "\n",
      "  [[  8  68]\n",
      "   [ 28  88]\n",
      "   [ 48 108]]\n",
      "\n",
      "  [[ 13  73]\n",
      "   [ 33  93]\n",
      "   [ 53 113]]\n",
      "\n",
      "  [[ 18  78]\n",
      "   [ 38  98]\n",
      "   [ 58 118]]]\n",
      "\n",
      "\n",
      " [[[  4  64]\n",
      "   [ 24  84]\n",
      "   [ 44 104]]\n",
      "\n",
      "  [[  9  69]\n",
      "   [ 29  89]\n",
      "   [ 49 109]]\n",
      "\n",
      "  [[ 14  74]\n",
      "   [ 34  94]\n",
      "   [ 54 114]]\n",
      "\n",
      "  [[ 19  79]\n",
      "   [ 39  99]\n",
      "   [ 59 119]]]]\n"
     ]
    }
   ],
   "source": [
    "print(A)\n",
    "print(A.T)"
   ]
  },
  {
   "cell_type": "code",
   "execution_count": null,
   "metadata": {},
   "outputs": [],
   "source": []
  },
  {
   "cell_type": "code",
   "execution_count": null,
   "metadata": {},
   "outputs": [],
   "source": []
  }
 ],
 "metadata": {
  "kernelspec": {
   "display_name": "Python 3",
   "language": "python",
   "name": "python3"
  },
  "language_info": {
   "codemirror_mode": {
    "name": "ipython",
    "version": 3
   },
   "file_extension": ".py",
   "mimetype": "text/x-python",
   "name": "python",
   "nbconvert_exporter": "python",
   "pygments_lexer": "ipython3",
   "version": "3.5.1"
  }
 },
 "nbformat": 4,
 "nbformat_minor": 2
}
