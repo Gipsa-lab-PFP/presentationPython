{
 "metadata": {
  "name": "",
  "signature": "sha256:800cfd1e7a048cae89d8c08217971f1f7162b83f26ec6522f93342e7ee2661e1"
 },
 "nbformat": 3,
 "nbformat_minor": 0,
 "worksheets": [
  {
   "cells": [
    {
     "cell_type": "markdown",
     "metadata": {},
     "source": [
      "<h1> Exemple de notebook </h1>"
     ]
    },
    {
     "cell_type": "code",
     "collapsed": false,
     "input": [
      "%pylab inline"
     ],
     "language": "python",
     "metadata": {},
     "outputs": [
      {
       "output_type": "stream",
       "stream": "stdout",
       "text": [
        "Populating the interactive namespace from numpy and matplotlib\n"
       ]
      }
     ],
     "prompt_number": 1
    },
    {
     "cell_type": "code",
     "collapsed": false,
     "input": [
      "import sys\n",
      "sys.path.append(\"/Users/becqg/Documents/project/dinfo/src/python/dinfo/\")"
     ],
     "language": "python",
     "metadata": {},
     "outputs": [],
     "prompt_number": 6
    },
    {
     "cell_type": "code",
     "collapsed": false,
     "input": [
      "import dinfo_c, model"
     ],
     "language": "python",
     "metadata": {},
     "outputs": [],
     "prompt_number": 8
    },
    {
     "cell_type": "code",
     "collapsed": false,
     "input": [
      "help(model.GlassMackey)"
     ],
     "language": "python",
     "metadata": {},
     "outputs": [
      {
       "output_type": "stream",
       "stream": "stdout",
       "text": [
        "Help on function GlassMackey in module model:\n",
        "\n",
        "GlassMackey(nObs, epsilonX, epsilonY, alpha)\n",
        "    Simulate samples from equations based on a Glass Mackey model\n",
        "    used in Amblard et al., A Gaussian Process Regression..., 2012 \n",
        "    \n",
        "    Syntax\n",
        "    \n",
        "    (x, y) = GlassMackey(nObs, epsX, epsY, alpha)\n",
        "    \n",
        "    Input\n",
        "    \n",
        "    nObs: int, number of observations\n",
        "    epsX: (nObs, ) noise on X\n",
        "    epxY: (nObs, ) noise on Y\n",
        "    alpha: float, parameter of the model\n",
        "    \n",
        "    Output\n",
        "    \n",
        "    (x, y): \n",
        "        x: (nObs, ) \n",
        "        y: (nObs, )\n",
        "    \n",
        "    Description\n",
        "    \n",
        "    The system is given by this equation: \n",
        "    $$\n",
        "    \\left \\{\n",
        "    \\begin{array}{l}\n",
        "    x_t = x_{t - 1} - 0.4 \\, \\left( x_{t - 1} - \\frac{2 \\, x_{t - 4}} \n",
        "        {1 + x_{t - 4} ^ {10}} \\right) \\, y_{t - 5} +\n",
        "        0.3 \\, y_{t - 3} + \\epsilon_{x, t} \\\\\n",
        "    y_t = y_{t - 1} - 0.4 \\, \\left( y_{t - 1} - \\frac{2 \\, y_{t - 2}}\n",
        "        {1 + y_{t - 2} ^ {10}} \\right) + \n",
        "        \\alpha \\, x_{t - 2} + \\epsilon_{y, t}\n",
        "    \\end{array} \n",
        "    \\right .\n",
        "    $$\n",
        "    \n",
        "    Example\n",
        "    \n",
        "    >>> nObs = 100\n",
        "    >>> numpy.random.seed(1)\n",
        "    >>> epsX = numpy.random.randn(nObs, ) * 0.01\n",
        "    >>> epsY = numpy.random.randn(nObs, ) * 0.01\n",
        "    >>> listLambda = [0.01, 0.1, 1]\n",
        "    >>> param = ([0.1, 1., 10.], )\n",
        "    >>> from dinfo import dinfo\n",
        "    >>> for alpha in [0, 0.01, 0.1, 0.2]: \n",
        "    >>>     (x, y) = model.GlassMackey(nObs, epsX, epsY, alpha)\n",
        "    >>>     dXY = dinfo.gprcm(x, y, 6, \"Gaussian\", listLambda, param)\n",
        "    >>>     dYX = dinfo.gprcm(y, x, 6, \"Gaussian\", listLambda, param)\n",
        "    >>>     print(\"alpha:{0:5.2f}, dXY:{1:5.2f}, dYX:{2:5.2f}\".format(alpha, dXY, dYX))\n",
        "    \n",
        "       alpha: 0.00, dXY:-102.23, dYX:-43.26\n",
        "       alpha: 0.01, dXY:-78.77, dYX:-44.55\n",
        "       alpha: 0.10, dXY:-83.92, dYX:-41.02\n",
        "       alpha: 0.20, dXY:-24.96, dYX:-16.54\n",
        "\n"
       ]
      }
     ],
     "prompt_number": 39
    },
    {
     "cell_type": "markdown",
     "metadata": {},
     "source": [
      "The system is given by this equation: \n",
      "\n",
      "$$\n",
      "\\left \\{\n",
      "\\begin{array}{l}\n",
      "x_t = x_{t - 1} - 0.4 \\, \\left( x_{t - 1} - \\frac{2 \\, x_{t - 4}} \n",
      "    {1 + x_{t - 4} ^ {10}} \\right) \\, y_{t - 5} +\n",
      "    0.3 \\, y_{t - 3} + \\epsilon_{x, t} \\\\\n",
      "y_t = y_{t - 1} - 0.4 \\, \\left( y_{t - 1} - \\frac{2 \\, y_{t - 2}}\n",
      "    {1 + y_{t - 2} ^ {10}} \\right) + \n",
      "    \\alpha \\, x_{t - 2} + \\epsilon_{y, t}\n",
      "\\end{array} \n",
      "\\right .\n",
      "$$"
     ]
    },
    {
     "cell_type": "code",
     "collapsed": false,
     "input": [
      "nObs = 10000\n",
      "(x, y) = model.GlassMackey(nObs, 0.03 * randn(nObs), 0.02 * randn(nObs), 0.1)"
     ],
     "language": "python",
     "metadata": {},
     "outputs": [],
     "prompt_number": 32
    },
    {
     "cell_type": "code",
     "collapsed": false,
     "input": [
      "plot(x, y, '.')"
     ],
     "language": "python",
     "metadata": {},
     "outputs": [
      {
       "metadata": {},
       "output_type": "pyout",
       "prompt_number": 33,
       "text": [
        "[<matplotlib.lines.Line2D at 0x1130e7810>]"
       ]
      },
      {
       "metadata": {},
       "output_type": "display_data",
       "png": "[encoded data removed]",
       "text": [
        "<matplotlib.figure.Figure at 0x1130c5a90>"
       ]
      }
     ],
     "prompt_number": 33
    },
    {
     "cell_type": "code",
     "collapsed": false,
     "input": [
      "mi_xy = dinfo_c.mi(x, y, \"Frenzel\", (20, \"Euclidean\"))"
     ],
     "language": "python",
     "metadata": {},
     "outputs": [],
     "prompt_number": 36
    },
    {
     "cell_type": "code",
     "collapsed": false,
     "input": [
      "print(mi_xy)"
     ],
     "language": "python",
     "metadata": {},
     "outputs": [
      {
       "output_type": "stream",
       "stream": "stdout",
       "text": [
        "0.876832495196\n"
       ]
      }
     ],
     "prompt_number": 37
    },
    {
     "cell_type": "code",
     "collapsed": false,
     "input": [],
     "language": "python",
     "metadata": {},
     "outputs": []
    }
   ],
   "metadata": {}
  }
 ]
}