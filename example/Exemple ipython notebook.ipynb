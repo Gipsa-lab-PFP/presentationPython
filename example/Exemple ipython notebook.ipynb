{
 "cells": [
  {
   "cell_type": "markdown",
   "metadata": {},
   "source": [
    "<h1> Exemple de notebook </h1>"
   ]
  },
  {
   "cell_type": "code",
   "execution_count": 1,
   "metadata": {},
   "outputs": [
    {
     "name": "stdout",
     "output_type": "stream",
     "text": [
      "Populating the interactive namespace from numpy and matplotlib\n"
     ]
    }
   ],
   "source": [
    "%pylab inline"
   ]
  },
  {
   "cell_type": "code",
   "execution_count": 2,
   "metadata": {},
   "outputs": [],
   "source": [
    "import sys\n",
    "sys.path.append(\"/Users/becqg/Documents/project/dinfo/src/python/dinfo/\")"
   ]
  },
  {
   "cell_type": "code",
   "execution_count": 3,
   "metadata": {},
   "outputs": [
    {
     "name": "stdout",
     "output_type": "stream",
     "text": [
      "/Volumes/HD1/Users/becqg/Documents/project/cours/Python/presentationPython/example\n",
      "/Volumes/Hd1/Users/Becqg/Documents/Project/Dinfo/Src/Python/Dinfo/Binning_C.Py\n",
      "/Volumes/Hd1/Users/Becqg/Documents/Project/Dinfo/Src/C/binning.dylib\n",
      "/Volumes/HD1/Users/becqg/Documents/project/cours/Python/presentationPython/example\n",
      "/Volumes/Hd1/Users/Becqg/Documents/Project/Dinfo/Src/Python/Dinfo/Funfrenzel_C.Py\n",
      "/Volumes/Hd1/Users/Becqg/Documents/Project/Dinfo/Src/C/funFrenzel.dylib\n",
      "/Volumes/HD1/Users/becqg/Documents/project/cours/Python/presentationPython/example\n",
      "/Volumes/Hd1/Users/Becqg/Documents/Project/Dinfo/Src/Python/Dinfo/Kernel_C.Py\n",
      "/Volumes/Hd1/Users/Becqg/Documents/Project/Dinfo/Src/C/kernel.dylib\n"
     ]
    }
   ],
   "source": [
    "import dinfo_c, model; "
   ]
  },
  {
   "cell_type": "code",
   "execution_count": 4,
   "metadata": {},
   "outputs": [
    {
     "name": "stdout",
     "output_type": "stream",
     "text": [
      "Help on function GlassMackey in module model:\n",
      "\n",
      "GlassMackey(nObs, epsilonX, epsilonY, alpha)\n",
      "    Simulate samples from equations based on a Glass Mackey model\n",
      "    used in Amblard et al., A Gaussian Process Regression..., 2012 \n",
      "    \n",
      "    Syntax\n",
      "    \n",
      "    (x, y) = GlassMackey(nObs, epsX, epsY, alpha)\n",
      "    \n",
      "    Input\n",
      "    \n",
      "    nObs: int, number of observations\n",
      "    epsX: (nObs, ) noise on X\n",
      "    epxY: (nObs, ) noise on Y\n",
      "    alpha: float, parameter of the model\n",
      "    \n",
      "    Output\n",
      "    \n",
      "    (x, y): \n",
      "        x: (nObs, ) \n",
      "        y: (nObs, )\n",
      "    \n",
      "    Description\n",
      "    \n",
      "    The system is given by this equation: \n",
      "    $$\n",
      "    \\left \\{\n",
      "    \\begin{array}{l}\n",
      "    x_t = x_{t - 1} - 0.4 \\, \\left( x_{t - 1} - \\frac{2 \\, x_{t - 4}} \n",
      "        {1 + x_{t - 4} ^ {10}} \\right) \\, y_{t - 5} +\n",
      "        0.3 \\, y_{t - 3} + \\epsilon_{x, t} \\\\\n",
      "    y_t = y_{t - 1} - 0.4 \\, \\left( y_{t - 1} - \\frac{2 \\, y_{t - 2}}\n",
      "        {1 + y_{t - 2} ^ {10}} \\right) + \n",
      "        \\alpha \\, x_{t - 2} + \\epsilon_{y, t}\n",
      "    \\end{array} \n",
      "    \\right .\n",
      "    $$\n",
      "    \n",
      "    Example\n",
      "    \n",
      "    >>> nObs = 100\n",
      "    >>> numpy.random.seed(1)\n",
      "    >>> epsX = numpy.random.randn(nObs, ) * 0.01\n",
      "    >>> epsY = numpy.random.randn(nObs, ) * 0.01\n",
      "    >>> listLambda = [0.01, 0.1, 1]\n",
      "    >>> param = ([0.1, 1., 10.], )\n",
      "    >>> from dinfo import dinfo\n",
      "    >>> for alpha in [0, 0.01, 0.1, 0.2]: \n",
      "    >>>     (x, y) = model.GlassMackey(nObs, epsX, epsY, alpha)\n",
      "    >>>     dXY = dinfo.gprcm(x, y, 6, \"Gaussian\", listLambda, param)\n",
      "    >>>     dYX = dinfo.gprcm(y, x, 6, \"Gaussian\", listLambda, param)\n",
      "    >>>     print(\"alpha:{0:5.2f}, dXY:{1:5.2f}, dYX:{2:5.2f}\".format(alpha, dXY, dYX))\n",
      "    \n",
      "       alpha: 0.00, dXY:-102.23, dYX:-43.26\n",
      "       alpha: 0.01, dXY:-78.77, dYX:-44.55\n",
      "       alpha: 0.10, dXY:-83.92, dYX:-41.02\n",
      "       alpha: 0.20, dXY:-24.96, dYX:-16.54\n",
      "\n"
     ]
    }
   ],
   "source": [
    "help(model.GlassMackey)"
   ]
  },
  {
   "cell_type": "markdown",
   "metadata": {},
   "source": [
    "The system is given by this equation: \n",
    "\n",
    "$$\n",
    "\\left \\{\n",
    "\\begin{array}{l}\n",
    "x_t = x_{t - 1} - 0.4 \\, \\left( x_{t - 1} - \\frac{2 \\, x_{t - 4}} \n",
    "    {1 + x_{t - 4} ^ {10}} \\right) \\, y_{t - 5} +\n",
    "    0.3 \\, y_{t - 3} + \\epsilon_{x, t} \\\\\n",
    "y_t = y_{t - 1} - 0.4 \\, \\left( y_{t - 1} - \\frac{2 \\, y_{t - 2}}\n",
    "    {1 + y_{t - 2} ^ {10}} \\right) + \n",
    "    \\alpha \\, x_{t - 2} + \\epsilon_{y, t}\n",
    "\\end{array} \n",
    "\\right .\n",
    "$$"
   ]
  },
  {
   "cell_type": "code",
   "execution_count": 5,
   "metadata": {},
   "outputs": [],
   "source": [
    "nObs = 10000\n",
    "(x, y) = model.GlassMackey(nObs, 0.03 * randn(nObs), 0.02 * randn(nObs), 0.1)"
   ]
  },
  {
   "cell_type": "code",
   "execution_count": 6,
   "metadata": {},
   "outputs": [
    {
     "data": {
      "text/plain": [
       "[<matplotlib.lines.Line2D at 0x108c47550>]"
      ]
     },
     "execution_count": 6,
     "metadata": {},
     "output_type": "execute_result"
    },
    {
     "data": {
      "image/png": "[encoded data removed]",
      "text/plain": [
       "<matplotlib.figure.Figure at 0x108c4def0>"
      ]
     },
     "metadata": {},
     "output_type": "display_data"
    }
   ],
   "source": [
    "plot(x, y, '.')"
   ]
  },
  {
   "cell_type": "code",
   "execution_count": 7,
   "metadata": {},
   "outputs": [],
   "source": [
    "mi_xy = dinfo_c.mi(x, y, \"Frenzel\", (20, \"Euclidean\"))"
   ]
  },
  {
   "cell_type": "code",
   "execution_count": 8,
   "metadata": {},
   "outputs": [
    {
     "name": "stdout",
     "output_type": "stream",
     "text": [
      "0.8649664124647107\n"
     ]
    }
   ],
   "source": [
    "print(mi_xy)"
   ]
  },
  {
   "cell_type": "code",
   "execution_count": null,
   "metadata": {},
   "outputs": [],
   "source": []
  }
 ],
 "metadata": {
  "kernelspec": {
   "display_name": "Python 3",
   "language": "python",
   "name": "python3"
  },
  "language_info": {
   "codemirror_mode": {
    "name": "ipython",
    "version": 3
   },
   "file_extension": ".py",
   "mimetype": "text/x-python",
   "name": "python",
   "nbconvert_exporter": "python",
   "pygments_lexer": "ipython3",
   "version": "3.5.1"
  }
 },
 "nbformat": 4,
 "nbformat_minor": 1
}
